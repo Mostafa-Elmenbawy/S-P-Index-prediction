{
  "nbformat": 4,
  "nbformat_minor": 0,
  "metadata": {
    "colab": {
      "name": "SP_Index_prediction.ipynb",
      "version": "0.3.2",
      "provenance": [],
      "collapsed_sections": [
        "pZH-qPeqGXJE",
        "6mJez0RBGXJN",
        "_z_J1wczGXKn",
        "aNLE8qxNGXKs",
        "PTD4yrXrGXLL",
        "c2jbMB99GXLc",
        "snMrkyUSGXLt",
        "zhZxLxVfGXMI",
        "VvbV3LaFGXMS",
        "d1MQ3ArqGXMg",
        "llEhfdjGGXMu",
        "Q5gho-reGXNK",
        "rzME4XzdGXNY",
        "pHWXznIFGXNb",
        "IKKP80WUGXNr",
        "OB684JbkGXNt",
        "sgC8k7FdGXOB"
      ]
    },
    "kernelspec": {
      "display_name": "Python 3",
      "language": "python",
      "name": "python3"
    }
  },
  "cells": [
    {
      "metadata": {
        "id": "-eg0RtEOGXGC",
        "colab_type": "text"
      },
      "cell_type": "markdown",
      "source": [
        "### Read dataset from CSV file using pandas"
      ]
    },
    {
      "metadata": {
        "id": "ox86BoiyGXGG",
        "colab_type": "code",
        "colab": {},
        "outputId": "f82dc028-9102-40db-dbae-e1b6be084989"
      },
      "cell_type": "code",
      "source": [
        "import pandas as pd\n",
        "import numpy as np\n",
        "import datetime\n",
        "from sklearn.neural_network import MLPRegressor\n",
        "\n",
        "df = pd.read_csv('sp500_27270.csv')\n",
        "df.head()"
      ],
      "execution_count": 0,
      "outputs": [
        {
          "output_type": "execute_result",
          "data": {
            "text/html": [
              "<div>\n",
              "<style>\n",
              "    .dataframe thead tr:only-child th {\n",
              "        text-align: right;\n",
              "    }\n",
              "\n",
              "    .dataframe thead th {\n",
              "        text-align: left;\n",
              "    }\n",
              "\n",
              "    .dataframe tbody tr th {\n",
              "        vertical-align: top;\n",
              "    }\n",
              "</style>\n",
              "<table border=\"1\" class=\"dataframe\">\n",
              "  <thead>\n",
              "    <tr style=\"text-align: right;\">\n",
              "      <th></th>\n",
              "      <th>Unnamed: 0</th>\n",
              "      <th>SP500</th>\n",
              "      <th>MMM</th>\n",
              "      <th>ABT</th>\n",
              "      <th>ABBV</th>\n",
              "      <th>ACN</th>\n",
              "      <th>ATVI</th>\n",
              "      <th>AYI</th>\n",
              "      <th>ADBE</th>\n",
              "      <th>AMD</th>\n",
              "      <th>...</th>\n",
              "      <th>WMB</th>\n",
              "      <th>WYNN</th>\n",
              "      <th>XEL</th>\n",
              "      <th>XRX</th>\n",
              "      <th>XLNX</th>\n",
              "      <th>XYL</th>\n",
              "      <th>YUM</th>\n",
              "      <th>ZBH</th>\n",
              "      <th>ZION</th>\n",
              "      <th>ZTS</th>\n",
              "    </tr>\n",
              "  </thead>\n",
              "  <tbody>\n",
              "    <tr>\n",
              "      <th>0</th>\n",
              "      <td>0</td>\n",
              "      <td>1676.12</td>\n",
              "      <td>104.8617</td>\n",
              "      <td>30.0317</td>\n",
              "      <td>38.7049</td>\n",
              "      <td>64.8930</td>\n",
              "      <td>16.0295</td>\n",
              "      <td>94.7727</td>\n",
              "      <td>50.820</td>\n",
              "      <td>3.86</td>\n",
              "      <td>...</td>\n",
              "      <td>27.0806</td>\n",
              "      <td>139.1379</td>\n",
              "      <td>22.8062</td>\n",
              "      <td>23.7407</td>\n",
              "      <td>41.0246</td>\n",
              "      <td>26.1189</td>\n",
              "      <td>46.4083</td>\n",
              "      <td>79.8048</td>\n",
              "      <td>25.8329</td>\n",
              "      <td>30.7332</td>\n",
              "    </tr>\n",
              "    <tr>\n",
              "      <th>1</th>\n",
              "      <td>1</td>\n",
              "      <td>1655.45</td>\n",
              "      <td>103.5100</td>\n",
              "      <td>29.5924</td>\n",
              "      <td>37.3865</td>\n",
              "      <td>63.7629</td>\n",
              "      <td>15.8936</td>\n",
              "      <td>93.2675</td>\n",
              "      <td>49.580</td>\n",
              "      <td>3.72</td>\n",
              "      <td>...</td>\n",
              "      <td>26.7222</td>\n",
              "      <td>137.5369</td>\n",
              "      <td>23.1504</td>\n",
              "      <td>23.1472</td>\n",
              "      <td>40.3263</td>\n",
              "      <td>25.5592</td>\n",
              "      <td>46.5642</td>\n",
              "      <td>79.9583</td>\n",
              "      <td>25.7091</td>\n",
              "      <td>30.3482</td>\n",
              "    </tr>\n",
              "    <tr>\n",
              "      <th>2</th>\n",
              "      <td>2</td>\n",
              "      <td>1656.40</td>\n",
              "      <td>103.8722</td>\n",
              "      <td>29.7359</td>\n",
              "      <td>37.6300</td>\n",
              "      <td>63.8719</td>\n",
              "      <td>15.8062</td>\n",
              "      <td>91.6441</td>\n",
              "      <td>49.450</td>\n",
              "      <td>3.65</td>\n",
              "      <td>...</td>\n",
              "      <td>26.6536</td>\n",
              "      <td>137.9919</td>\n",
              "      <td>23.3099</td>\n",
              "      <td>23.3070</td>\n",
              "      <td>40.3882</td>\n",
              "      <td>25.3820</td>\n",
              "      <td>43.4164</td>\n",
              "      <td>81.2242</td>\n",
              "      <td>25.6233</td>\n",
              "      <td>30.2520</td>\n",
              "    </tr>\n",
              "    <tr>\n",
              "      <th>3</th>\n",
              "      <td>3</td>\n",
              "      <td>1692.56</td>\n",
              "      <td>105.4360</td>\n",
              "      <td>30.2850</td>\n",
              "      <td>38.7061</td>\n",
              "      <td>64.7626</td>\n",
              "      <td>16.5538</td>\n",
              "      <td>94.5464</td>\n",
              "      <td>51.165</td>\n",
              "      <td>3.79</td>\n",
              "      <td>...</td>\n",
              "      <td>27.2559</td>\n",
              "      <td>142.0337</td>\n",
              "      <td>23.6288</td>\n",
              "      <td>24.3114</td>\n",
              "      <td>41.3517</td>\n",
              "      <td>26.0536</td>\n",
              "      <td>43.0638</td>\n",
              "      <td>82.4135</td>\n",
              "      <td>26.6429</td>\n",
              "      <td>31.1471</td>\n",
              "    </tr>\n",
              "    <tr>\n",
              "      <th>4</th>\n",
              "      <td>4</td>\n",
              "      <td>1703.20</td>\n",
              "      <td>106.6552</td>\n",
              "      <td>30.3931</td>\n",
              "      <td>38.6807</td>\n",
              "      <td>66.0803</td>\n",
              "      <td>16.5829</td>\n",
              "      <td>96.2288</td>\n",
              "      <td>52.190</td>\n",
              "      <td>3.83</td>\n",
              "      <td>...</td>\n",
              "      <td>27.5609</td>\n",
              "      <td>145.7606</td>\n",
              "      <td>23.7295</td>\n",
              "      <td>24.2886</td>\n",
              "      <td>41.7928</td>\n",
              "      <td>26.2122</td>\n",
              "      <td>43.7560</td>\n",
              "      <td>83.1136</td>\n",
              "      <td>26.9859</td>\n",
              "      <td>31.1856</td>\n",
              "    </tr>\n",
              "  </tbody>\n",
              "</table>\n",
              "<p>5 rows × 388 columns</p>\n",
              "</div>"
            ],
            "text/plain": [
              "   Unnamed: 0    SP500       MMM      ABT     ABBV      ACN     ATVI      AYI  \\\n",
              "0           0  1676.12  104.8617  30.0317  38.7049  64.8930  16.0295  94.7727   \n",
              "1           1  1655.45  103.5100  29.5924  37.3865  63.7629  15.8936  93.2675   \n",
              "2           2  1656.40  103.8722  29.7359  37.6300  63.8719  15.8062  91.6441   \n",
              "3           3  1692.56  105.4360  30.2850  38.7061  64.7626  16.5538  94.5464   \n",
              "4           4  1703.20  106.6552  30.3931  38.6807  66.0803  16.5829  96.2288   \n",
              "\n",
              "     ADBE   AMD   ...         WMB      WYNN      XEL      XRX     XLNX  \\\n",
              "0  50.820  3.86   ...     27.0806  139.1379  22.8062  23.7407  41.0246   \n",
              "1  49.580  3.72   ...     26.7222  137.5369  23.1504  23.1472  40.3263   \n",
              "2  49.450  3.65   ...     26.6536  137.9919  23.3099  23.3070  40.3882   \n",
              "3  51.165  3.79   ...     27.2559  142.0337  23.6288  24.3114  41.3517   \n",
              "4  52.190  3.83   ...     27.5609  145.7606  23.7295  24.2886  41.7928   \n",
              "\n",
              "       XYL      YUM      ZBH     ZION      ZTS  \n",
              "0  26.1189  46.4083  79.8048  25.8329  30.7332  \n",
              "1  25.5592  46.5642  79.9583  25.7091  30.3482  \n",
              "2  25.3820  43.4164  81.2242  25.6233  30.2520  \n",
              "3  26.0536  43.0638  82.4135  26.6429  31.1471  \n",
              "4  26.2122  43.7560  83.1136  26.9859  31.1856  \n",
              "\n",
              "[5 rows x 388 columns]"
            ]
          },
          "metadata": {
            "tags": []
          },
          "execution_count": 547
        }
      ]
    },
    {
      "metadata": {
        "id": "13TPbzcWGXGc",
        "colab_type": "text"
      },
      "cell_type": "markdown",
      "source": [
        "### checking for nan values in dataset"
      ]
    },
    {
      "metadata": {
        "id": "8X7jjNCuGXGf",
        "colab_type": "code",
        "colab": {}
      },
      "cell_type": "code",
      "source": [
        "df.isnull().any() "
      ],
      "execution_count": 0,
      "outputs": []
    },
    {
      "metadata": {
        "id": "j_sx9LwsGXGq",
        "colab_type": "text"
      },
      "cell_type": "markdown",
      "source": [
        "### Investigate features correlation"
      ]
    },
    {
      "metadata": {
        "id": "XTLJWaTiGXGt",
        "colab_type": "code",
        "colab": {}
      },
      "cell_type": "code",
      "source": [
        "corr = df.corr()\n",
        "corr = corr['SP500']\n",
        "# print(corr)"
      ],
      "execution_count": 0,
      "outputs": []
    },
    {
      "metadata": {
        "id": "NaOlOGBxGXG3",
        "colab_type": "text"
      },
      "cell_type": "markdown",
      "source": [
        "### Select features with correlation of >=0.95 or <=-0.95"
      ]
    },
    {
      "metadata": {
        "id": "QFRdu-6lGXG6",
        "colab_type": "code",
        "colab": {},
        "outputId": "54f6ad84-e630-486b-e740-66e8429d4f54"
      },
      "cell_type": "code",
      "source": [
        "selected_features = []\n",
        "for i in range(2, corr.shape[0]):\n",
        "    if corr[i] >= 0.95 or corr[i] <= -0.95:\n",
        "        selected_features.append(corr.index[i])\n",
        "        \n",
        "print(selected_features)\n",
        "print(\"Number of selected features: \", len(selected_features))\n",
        "X = df[selected_features]\n",
        "y = df['SP500']"
      ],
      "execution_count": 0,
      "outputs": [
        {
          "output_type": "stream",
          "text": [
            "['ACN', 'ATVI', 'ADBE', 'AET', 'AFL', 'A', 'ALL', 'AMT', 'APH', 'ADI', 'ANTM', 'AON', 'AAPL', 'AJG', 'ADSK', 'ADP', 'BK', 'BAX', 'BBT', 'BDX', 'BRK.B', 'BLK', 'CDNS', 'CTAS', 'CSCO', 'CTXS', 'CME', 'CSX', 'ECL', 'EXPD', 'FDX', 'HRS', 'IQV', 'JBHT', 'JPM', 'KLAC', 'LLL', 'LH', 'LRCX', 'LMT', 'MAR', 'MMC', 'MA', 'MSFT', 'NEE', 'NTRS', 'PGR', 'PLD', 'RJF', 'RTN', 'RSG', 'COL', 'ROP', 'SHW', 'SPGI', 'SYK', 'STI', 'SNPS', 'TEL', 'TXN', 'TMO', 'TMK', 'TSS', 'TDG', 'UNH', 'V', 'WM', 'WAT', 'XYL', 'YUM', 'ZTS']\n",
            "Number of selected features:  71\n"
          ],
          "name": "stdout"
        }
      ]
    },
    {
      "metadata": {
        "id": "XIqHkcoRGXHH",
        "colab_type": "text"
      },
      "cell_type": "markdown",
      "source": [
        "### Normalize data"
      ]
    },
    {
      "metadata": {
        "id": "j26yK-vdGXHK",
        "colab_type": "code",
        "colab": {},
        "outputId": "cf4111b7-abff-474a-e900-75d0b44391b3"
      },
      "cell_type": "code",
      "source": [
        "from sklearn import preprocessing\n",
        "\n",
        "#Normalize Data\n",
        "X_scaled = preprocessing.scale(X)\n",
        "y_scaled = preprocessing.scale(y)\n",
        "\n",
        "print(y_scaled[:5])\n",
        "print(y.head())"
      ],
      "execution_count": 0,
      "outputs": [
        {
          "output_type": "stream",
          "text": [
            "[-1.71687664 -1.78292298 -1.77988747 -1.66434631 -1.63034857]\n",
            "0    1676.12\n",
            "1    1655.45\n",
            "2    1656.40\n",
            "3    1692.56\n",
            "4    1703.20\n",
            "Name: SP500, dtype: float64\n"
          ],
          "name": "stdout"
        }
      ]
    },
    {
      "metadata": {
        "id": "jCbqcwB8GXHW",
        "colab_type": "text"
      },
      "cell_type": "markdown",
      "source": [
        "### Split data into train & validation, and test with 80% and 20% respectively\n",
        "### train and validation are separated during fitting the model into 64% and 16% from the original data respectively"
      ]
    },
    {
      "metadata": {
        "id": "kg1B7M22GXHZ",
        "colab_type": "code",
        "colab": {}
      },
      "cell_type": "code",
      "source": [
        "from sklearn.model_selection import train_test_split\n",
        "import sklearn.metrics as metrics\n",
        "from sklearn.model_selection import cross_validate\n",
        "\n",
        "X_train, X_test, y_train, y_test = train_test_split( X_scaled, y_scaled, test_size=0.2, random_state=1, shuffle=True )"
      ],
      "execution_count": 0,
      "outputs": []
    },
    {
      "metadata": {
        "id": "7hDY_3IUGXHj",
        "colab_type": "text"
      },
      "cell_type": "markdown",
      "source": [
        "### The used metric is Mean Squared Error 'MSE'"
      ]
    },
    {
      "metadata": {
        "id": "lUpeEdCpGXHn",
        "colab_type": "text"
      },
      "cell_type": "markdown",
      "source": [
        "### SGD"
      ]
    },
    {
      "metadata": {
        "id": "USQdskR4GXHp",
        "colab_type": "code",
        "colab": {},
        "outputId": "c6745594-ad36-4f43-9258-3296e5538713"
      },
      "cell_type": "code",
      "source": [
        "reg_sgd = MLPRegressor(hidden_layer_sizes=(128), solver='sgd', learning_rate_init=0.0001)\n",
        "reg_sgd.fit(X_train, y_train)\n",
        "predicted_targets = reg_sgd.predict(X_test)\n",
        "\n",
        "print(\"MSE: \", metrics.mean_squared_error(predicted_targets, y_test))"
      ],
      "execution_count": 0,
      "outputs": [
        {
          "output_type": "stream",
          "text": [
            "MSE:  0.0417128780478\n"
          ],
          "name": "stdout"
        }
      ]
    },
    {
      "metadata": {
        "id": "ImKse01kGXH2",
        "colab_type": "code",
        "colab": {},
        "outputId": "63187613-d3e5-486b-af02-af295b0f9e8b"
      },
      "cell_type": "code",
      "source": [
        "reg_sgd = MLPRegressor(hidden_layer_sizes=(128), solver='sgd', learning_rate_init=0.001)\n",
        "reg_sgd.fit(X_train, y_train)\n",
        "predicted_targets = reg_sgd.predict(X_test)\n",
        "\n",
        "print(\"MSE: \", metrics.mean_squared_error(predicted_targets, y_test))"
      ],
      "execution_count": 0,
      "outputs": [
        {
          "output_type": "stream",
          "text": [
            "MSE:  0.0106657920528\n"
          ],
          "name": "stdout"
        }
      ]
    },
    {
      "metadata": {
        "id": "KXU4VS41GXIC",
        "colab_type": "code",
        "colab": {},
        "outputId": "68ac1b37-d8fc-466c-be16-63f641e0f75d"
      },
      "cell_type": "code",
      "source": [
        "reg_sgd = MLPRegressor(hidden_layer_sizes=(128), solver='sgd', learning_rate_init=0.01)\n",
        "reg_sgd.fit(X_train, y_train)\n",
        "predicted_targets = reg_sgd.predict(X_test)\n",
        "\n",
        "print(\"MSE: \", metrics.mean_squared_error(predicted_targets, y_test))"
      ],
      "execution_count": 0,
      "outputs": [
        {
          "output_type": "stream",
          "text": [
            "MSE:  0.00359173100702\n"
          ],
          "name": "stdout"
        }
      ]
    },
    {
      "metadata": {
        "id": "Vr8vfskvGXIO",
        "colab_type": "code",
        "colab": {}
      },
      "cell_type": "code",
      "source": [
        "# reg_sgd = MLPRegressor(hidden_layer_sizes=(128), solver='sgd', learning_rate_init=0.1)\n",
        "# reg_sgd.fit(X_train, y_train)\n",
        "# predicted_targets = reg_sgd.predict(X_test)\n",
        "\n",
        "# print(\"MSE: \", metrics.mean_squared_error(predicted_targets, y_test))"
      ],
      "execution_count": 0,
      "outputs": []
    },
    {
      "metadata": {
        "id": "cLAg__SwGXIf",
        "colab_type": "code",
        "colab": {}
      },
      "cell_type": "code",
      "source": [
        "# reg_sgd = MLPRegressor(hidden_layer_sizes=(128), solver='sgd', learning_rate_init=0.2)\n",
        "# reg_sgd.fit(X_train, y_train)\n",
        "# predicted_targets = reg_sgd.predict(X_test)\n",
        "\n",
        "# print(\"MSE: \", metrics.mean_squared_error(predicted_targets, y_test))"
      ],
      "execution_count": 0,
      "outputs": []
    },
    {
      "metadata": {
        "id": "ZeY5ODPtGXIv",
        "colab_type": "code",
        "colab": {}
      },
      "cell_type": "code",
      "source": [
        "# reg_sgd = MLPRegressor(hidden_layer_sizes=(128), solver='sgd', learning_rate_init=0.00001)\n",
        "# reg_sgd.fit(X_train, y_train)\n",
        "# predicted_targets = reg_sgd.predict(X_test)\n",
        "\n",
        "# print(\"MSE: \", metrics.mean_squared_error(predicted_targets, y_test))"
      ],
      "execution_count": 0,
      "outputs": []
    },
    {
      "metadata": {
        "id": "pZH-qPeqGXJE",
        "colab_type": "text"
      },
      "cell_type": "markdown",
      "source": [
        "### Commenting on SGD\n",
        "High learning rates in SGD can cause the model to diverge instead of converging.\n",
        "For learning rates higher than 0.1, the model fail to fit producing an overflow error during convergence"
      ]
    },
    {
      "metadata": {
        "id": "6mJez0RBGXJN",
        "colab_type": "text"
      },
      "cell_type": "markdown",
      "source": [
        "### Adam"
      ]
    },
    {
      "metadata": {
        "id": "MueNNnrMGXJR",
        "colab_type": "code",
        "colab": {},
        "outputId": "916f264b-5a00-4e33-c245-595f0d5d46f4"
      },
      "cell_type": "code",
      "source": [
        "reg_adam = MLPRegressor(hidden_layer_sizes=(128), solver='adam', learning_rate_init=0.0001)\n",
        "# reg_adam.fit(X_train, y_train, validation_split=0.2)\n",
        "reg_adam.fit(X_train, y_train)\n",
        "predicted_targets = reg_adam.predict(X_test)\n",
        "\n",
        "# scores = cross_validate(reg_adam, X_train, y_train, scoring='precision_macro', cv=5)\n",
        "\n",
        "print(\"MSE: \", metrics.mean_squared_error(predicted_targets, y_test))"
      ],
      "execution_count": 0,
      "outputs": [
        {
          "output_type": "stream",
          "text": [
            "MSE:  0.0119173496082\n"
          ],
          "name": "stdout"
        }
      ]
    },
    {
      "metadata": {
        "id": "foVNLoyCGXJr",
        "colab_type": "code",
        "colab": {},
        "outputId": "9c65c4fd-616c-45da-a0e3-4b05c6854860"
      },
      "cell_type": "code",
      "source": [
        "reg_adam = MLPRegressor(hidden_layer_sizes=(128), solver='adam', learning_rate_init=0.001)\n",
        "reg_adam.fit(X_train, y_train)\n",
        "predicted_targets = reg_adam.predict(X_test)\n",
        "\n",
        "print(\"MSE: \", metrics.mean_squared_error(predicted_targets, y_test))"
      ],
      "execution_count": 0,
      "outputs": [
        {
          "output_type": "stream",
          "text": [
            "MSE:  0.00442500670821\n"
          ],
          "name": "stdout"
        }
      ]
    },
    {
      "metadata": {
        "id": "lNZW2aNLGXJ6",
        "colab_type": "code",
        "colab": {},
        "outputId": "df37f7fe-035a-4f41-c98f-ee82d95027b2"
      },
      "cell_type": "code",
      "source": [
        "reg_adam = MLPRegressor(hidden_layer_sizes=(128), solver='adam', learning_rate_init=0.01)\n",
        "reg_adam.fit(X_train, y_train)\n",
        "predicted_targets = reg_adam.predict(X_test)\n",
        "\n",
        "print(\"MSE: \", metrics.mean_squared_error(predicted_targets, y_test))"
      ],
      "execution_count": 0,
      "outputs": [
        {
          "output_type": "stream",
          "text": [
            "MSE:  0.00441349174736\n"
          ],
          "name": "stdout"
        }
      ]
    },
    {
      "metadata": {
        "id": "LXHiQ0AeGXKI",
        "colab_type": "code",
        "colab": {},
        "outputId": "2845c037-bbc8-4697-a383-d2b807bf3ce7"
      },
      "cell_type": "code",
      "source": [
        "reg_adam = MLPRegressor(hidden_layer_sizes=(128), solver='adam', learning_rate_init=0.1)\n",
        "reg_adam.fit(X_train, y_train)\n",
        "predicted_targets = reg_adam.predict(X_test)\n",
        "\n",
        "print(\"MSE: \", metrics.mean_squared_error(predicted_targets, y_test))"
      ],
      "execution_count": 0,
      "outputs": [
        {
          "output_type": "stream",
          "text": [
            "MSE:  0.0365150114174\n"
          ],
          "name": "stdout"
        }
      ]
    },
    {
      "metadata": {
        "id": "BSZ2bs2-GXKR",
        "colab_type": "code",
        "colab": {},
        "outputId": "3e18ffbd-76da-4feb-f3a4-925eb62e24c9"
      },
      "cell_type": "code",
      "source": [
        "reg_adam = MLPRegressor(hidden_layer_sizes=(128), solver='adam', learning_rate_init=0.2)\n",
        "reg_adam.fit(X_train, y_train)\n",
        "predicted_targets = reg_adam.predict(X_test)\n",
        "\n",
        "print(\"MSE: \", metrics.mean_squared_error(predicted_targets, y_test))"
      ],
      "execution_count": 0,
      "outputs": [
        {
          "output_type": "stream",
          "text": [
            "MSE:  0.459685315723\n"
          ],
          "name": "stdout"
        }
      ]
    },
    {
      "metadata": {
        "id": "JgA4qGAdGXKd",
        "colab_type": "code",
        "colab": {},
        "outputId": "e194d11c-d61a-44ef-dc0e-8473f2bf07b4"
      },
      "cell_type": "code",
      "source": [
        "reg_adam = MLPRegressor(hidden_layer_sizes=(128), solver='adam', learning_rate_init=0.5)\n",
        "reg_adam.fit(X_train, y_train)\n",
        "predicted_targets = reg_adam.predict(X_test)\n",
        "\n",
        "print(\"MSE: \", metrics.mean_squared_error(predicted_targets, y_test))"
      ],
      "execution_count": 0,
      "outputs": [
        {
          "output_type": "stream",
          "text": [
            "MSE:  55.0922057018\n"
          ],
          "name": "stdout"
        }
      ]
    },
    {
      "metadata": {
        "id": "_z_J1wczGXKn",
        "colab_type": "text"
      },
      "cell_type": "markdown",
      "source": [
        "### Commenting on Adam\n",
        "Adam shows the same pattern as SGD. \n",
        "However,sice Adam adopts the learning rate for each individual weight, it can converge even for learning rates higher than 0.1"
      ]
    },
    {
      "metadata": {
        "id": "aNLE8qxNGXKs",
        "colab_type": "text"
      },
      "cell_type": "markdown",
      "source": [
        "### Regularization\n",
        "The default technique of MLPRegressor gave the best results. This default technique is L2 regularizer with alpha of 0.0001.\n",
        "Trying alpha of 0.01 worsened the MSE value.\n",
        "Trying early stopping did not produce much improvement. It produced almost same results as the default value of alpha in MLPRegressor."
      ]
    },
    {
      "metadata": {
        "id": "eSJ_yiNAGXKu",
        "colab_type": "text"
      },
      "cell_type": "markdown",
      "source": [
        "### Best Regressor\n",
        "The best regressor contains a single layer with 128 nodes, uses Adam as an optimizer with learning rate of 0.01. \n",
        "This is the best architecture since a more complex models and more simple produced worse. "
      ]
    },
    {
      "metadata": {
        "id": "PuvXhj2oGXKx",
        "colab_type": "code",
        "colab": {}
      },
      "cell_type": "code",
      "source": [
        "reg_adam = MLPRegressor(hidden_layer_sizes=(128), solver='adam', learning_rate_init=0.01)\n",
        "reg_adam.fit(X_train, y_train)\n",
        "\n",
        "y_predicted = reg_adam.predict(X_test[:200])\n",
        "y_target = y_test[:200]\n",
        "\n",
        "# print(y_predicted)\n",
        "# print(y_target)\n"
      ],
      "execution_count": 0,
      "outputs": []
    },
    {
      "metadata": {
        "id": "JFv2MDojGXK8",
        "colab_type": "code",
        "colab": {},
        "outputId": "b353e445-8fd0-40a4-fecc-58546c259ca0"
      },
      "cell_type": "code",
      "source": [
        "import matplotlib.pyplot as plt \n",
        "\n",
        "x = np.arange(y_predicted.size)\n",
        "\n",
        "plt.plot(x, y_predicted, label='Predicted values')\n",
        "plt.plot(x, y_target, label='True values')\n",
        "plt.legend(loc='best')\n",
        "\n",
        "plt.figure()\n",
        "plt.scatter(x, y_predicted, label='Predicted values')\n",
        "plt.scatter(x, y_target, label='True values')\n",
        "\n",
        "plt.legend(loc='best')\n",
        "plt.show()"
      ],
      "execution_count": 0,
      "outputs": [
        {
          "output_type": "display_data",
          "data": {
            "image/png": "[encoded data removed]",
            "text/plain": [
              "<matplotlib.figure.Figure at 0x8205b79208>"
            ]
          },
          "metadata": {
            "tags": []
          }
        },
        {
          "output_type": "display_data",
          "data": {
            "image/png": "[encoded data removed]",
            "text/plain": [
              "<matplotlib.figure.Figure at 0x82059d7780>"
            ]
          },
          "metadata": {
            "tags": []
          }
        }
      ]
    },
    {
      "metadata": {
        "id": "7e4cufSkGXLG",
        "colab_type": "text"
      },
      "cell_type": "markdown",
      "source": [
        "Peak points were difficult to predict.\n",
        "These values are otliers. In other words they are far from other data. By trying to predict these points correctly the regressor will risk overfitting. \n",
        "Peak points are points were the SP500 value changed rapidly during a very short duration of time.\n",
        "In turn, the regressor found difficult accounting for this sudden change."
      ]
    },
    {
      "metadata": {
        "id": "Nt90fO6-GXLI",
        "colab_type": "text"
      },
      "cell_type": "markdown",
      "source": [
        "# Stock prices prediction- time series prediction"
      ]
    },
    {
      "metadata": {
        "id": "PTD4yrXrGXLL",
        "colab_type": "text"
      },
      "cell_type": "markdown",
      "source": [
        "### Read dataset from CSV file using pandas"
      ]
    },
    {
      "metadata": {
        "id": "Dvp7mlZhGXLP",
        "colab_type": "code",
        "colab": {},
        "outputId": "92b09667-2498-4151-b594-f0167ecd2b3c"
      },
      "cell_type": "code",
      "source": [
        "import pandas as pd\n",
        "import numpy as np\n",
        "import datetime\n",
        "\n",
        "df = pd.read_csv('sp500_27270.csv')\n",
        "df.head()"
      ],
      "execution_count": 0,
      "outputs": [
        {
          "output_type": "execute_result",
          "data": {
            "text/html": [
              "<div>\n",
              "<style>\n",
              "    .dataframe thead tr:only-child th {\n",
              "        text-align: right;\n",
              "    }\n",
              "\n",
              "    .dataframe thead th {\n",
              "        text-align: left;\n",
              "    }\n",
              "\n",
              "    .dataframe tbody tr th {\n",
              "        vertical-align: top;\n",
              "    }\n",
              "</style>\n",
              "<table border=\"1\" class=\"dataframe\">\n",
              "  <thead>\n",
              "    <tr style=\"text-align: right;\">\n",
              "      <th></th>\n",
              "      <th>Unnamed: 0</th>\n",
              "      <th>SP500</th>\n",
              "      <th>MMM</th>\n",
              "      <th>ABT</th>\n",
              "      <th>ABBV</th>\n",
              "      <th>ACN</th>\n",
              "      <th>ATVI</th>\n",
              "      <th>AYI</th>\n",
              "      <th>ADBE</th>\n",
              "      <th>AMD</th>\n",
              "      <th>...</th>\n",
              "      <th>WMB</th>\n",
              "      <th>WYNN</th>\n",
              "      <th>XEL</th>\n",
              "      <th>XRX</th>\n",
              "      <th>XLNX</th>\n",
              "      <th>XYL</th>\n",
              "      <th>YUM</th>\n",
              "      <th>ZBH</th>\n",
              "      <th>ZION</th>\n",
              "      <th>ZTS</th>\n",
              "    </tr>\n",
              "  </thead>\n",
              "  <tbody>\n",
              "    <tr>\n",
              "      <th>0</th>\n",
              "      <td>0</td>\n",
              "      <td>1676.12</td>\n",
              "      <td>104.8617</td>\n",
              "      <td>30.0317</td>\n",
              "      <td>38.7049</td>\n",
              "      <td>64.8930</td>\n",
              "      <td>16.0295</td>\n",
              "      <td>94.7727</td>\n",
              "      <td>50.820</td>\n",
              "      <td>3.86</td>\n",
              "      <td>...</td>\n",
              "      <td>27.0806</td>\n",
              "      <td>139.1379</td>\n",
              "      <td>22.8062</td>\n",
              "      <td>23.7407</td>\n",
              "      <td>41.0246</td>\n",
              "      <td>26.1189</td>\n",
              "      <td>46.4083</td>\n",
              "      <td>79.8048</td>\n",
              "      <td>25.8329</td>\n",
              "      <td>30.7332</td>\n",
              "    </tr>\n",
              "    <tr>\n",
              "      <th>1</th>\n",
              "      <td>1</td>\n",
              "      <td>1655.45</td>\n",
              "      <td>103.5100</td>\n",
              "      <td>29.5924</td>\n",
              "      <td>37.3865</td>\n",
              "      <td>63.7629</td>\n",
              "      <td>15.8936</td>\n",
              "      <td>93.2675</td>\n",
              "      <td>49.580</td>\n",
              "      <td>3.72</td>\n",
              "      <td>...</td>\n",
              "      <td>26.7222</td>\n",
              "      <td>137.5369</td>\n",
              "      <td>23.1504</td>\n",
              "      <td>23.1472</td>\n",
              "      <td>40.3263</td>\n",
              "      <td>25.5592</td>\n",
              "      <td>46.5642</td>\n",
              "      <td>79.9583</td>\n",
              "      <td>25.7091</td>\n",
              "      <td>30.3482</td>\n",
              "    </tr>\n",
              "    <tr>\n",
              "      <th>2</th>\n",
              "      <td>2</td>\n",
              "      <td>1656.40</td>\n",
              "      <td>103.8722</td>\n",
              "      <td>29.7359</td>\n",
              "      <td>37.6300</td>\n",
              "      <td>63.8719</td>\n",
              "      <td>15.8062</td>\n",
              "      <td>91.6441</td>\n",
              "      <td>49.450</td>\n",
              "      <td>3.65</td>\n",
              "      <td>...</td>\n",
              "      <td>26.6536</td>\n",
              "      <td>137.9919</td>\n",
              "      <td>23.3099</td>\n",
              "      <td>23.3070</td>\n",
              "      <td>40.3882</td>\n",
              "      <td>25.3820</td>\n",
              "      <td>43.4164</td>\n",
              "      <td>81.2242</td>\n",
              "      <td>25.6233</td>\n",
              "      <td>30.2520</td>\n",
              "    </tr>\n",
              "    <tr>\n",
              "      <th>3</th>\n",
              "      <td>3</td>\n",
              "      <td>1692.56</td>\n",
              "      <td>105.4360</td>\n",
              "      <td>30.2850</td>\n",
              "      <td>38.7061</td>\n",
              "      <td>64.7626</td>\n",
              "      <td>16.5538</td>\n",
              "      <td>94.5464</td>\n",
              "      <td>51.165</td>\n",
              "      <td>3.79</td>\n",
              "      <td>...</td>\n",
              "      <td>27.2559</td>\n",
              "      <td>142.0337</td>\n",
              "      <td>23.6288</td>\n",
              "      <td>24.3114</td>\n",
              "      <td>41.3517</td>\n",
              "      <td>26.0536</td>\n",
              "      <td>43.0638</td>\n",
              "      <td>82.4135</td>\n",
              "      <td>26.6429</td>\n",
              "      <td>31.1471</td>\n",
              "    </tr>\n",
              "    <tr>\n",
              "      <th>4</th>\n",
              "      <td>4</td>\n",
              "      <td>1703.20</td>\n",
              "      <td>106.6552</td>\n",
              "      <td>30.3931</td>\n",
              "      <td>38.6807</td>\n",
              "      <td>66.0803</td>\n",
              "      <td>16.5829</td>\n",
              "      <td>96.2288</td>\n",
              "      <td>52.190</td>\n",
              "      <td>3.83</td>\n",
              "      <td>...</td>\n",
              "      <td>27.5609</td>\n",
              "      <td>145.7606</td>\n",
              "      <td>23.7295</td>\n",
              "      <td>24.2886</td>\n",
              "      <td>41.7928</td>\n",
              "      <td>26.2122</td>\n",
              "      <td>43.7560</td>\n",
              "      <td>83.1136</td>\n",
              "      <td>26.9859</td>\n",
              "      <td>31.1856</td>\n",
              "    </tr>\n",
              "  </tbody>\n",
              "</table>\n",
              "<p>5 rows × 388 columns</p>\n",
              "</div>"
            ],
            "text/plain": [
              "   Unnamed: 0    SP500       MMM      ABT     ABBV      ACN     ATVI      AYI  \\\n",
              "0           0  1676.12  104.8617  30.0317  38.7049  64.8930  16.0295  94.7727   \n",
              "1           1  1655.45  103.5100  29.5924  37.3865  63.7629  15.8936  93.2675   \n",
              "2           2  1656.40  103.8722  29.7359  37.6300  63.8719  15.8062  91.6441   \n",
              "3           3  1692.56  105.4360  30.2850  38.7061  64.7626  16.5538  94.5464   \n",
              "4           4  1703.20  106.6552  30.3931  38.6807  66.0803  16.5829  96.2288   \n",
              "\n",
              "     ADBE   AMD   ...         WMB      WYNN      XEL      XRX     XLNX  \\\n",
              "0  50.820  3.86   ...     27.0806  139.1379  22.8062  23.7407  41.0246   \n",
              "1  49.580  3.72   ...     26.7222  137.5369  23.1504  23.1472  40.3263   \n",
              "2  49.450  3.65   ...     26.6536  137.9919  23.3099  23.3070  40.3882   \n",
              "3  51.165  3.79   ...     27.2559  142.0337  23.6288  24.3114  41.3517   \n",
              "4  52.190  3.83   ...     27.5609  145.7606  23.7295  24.2886  41.7928   \n",
              "\n",
              "       XYL      YUM      ZBH     ZION      ZTS  \n",
              "0  26.1189  46.4083  79.8048  25.8329  30.7332  \n",
              "1  25.5592  46.5642  79.9583  25.7091  30.3482  \n",
              "2  25.3820  43.4164  81.2242  25.6233  30.2520  \n",
              "3  26.0536  43.0638  82.4135  26.6429  31.1471  \n",
              "4  26.2122  43.7560  83.1136  26.9859  31.1856  \n",
              "\n",
              "[5 rows x 388 columns]"
            ]
          },
          "metadata": {
            "tags": []
          },
          "execution_count": 868
        }
      ]
    },
    {
      "metadata": {
        "id": "c2jbMB99GXLc",
        "colab_type": "text"
      },
      "cell_type": "markdown",
      "source": [
        "### Removing the first column \"Unnamed: 0\""
      ]
    },
    {
      "metadata": {
        "id": "tbL53mjUGXLh",
        "colab_type": "code",
        "colab": {},
        "outputId": "6f9cdebf-417c-4f03-a138-8c045f4bbfbd"
      },
      "cell_type": "code",
      "source": [
        "del df['Unnamed: 0']\n",
        "df.head()"
      ],
      "execution_count": 0,
      "outputs": [
        {
          "output_type": "execute_result",
          "data": {
            "text/html": [
              "<div>\n",
              "<style>\n",
              "    .dataframe thead tr:only-child th {\n",
              "        text-align: right;\n",
              "    }\n",
              "\n",
              "    .dataframe thead th {\n",
              "        text-align: left;\n",
              "    }\n",
              "\n",
              "    .dataframe tbody tr th {\n",
              "        vertical-align: top;\n",
              "    }\n",
              "</style>\n",
              "<table border=\"1\" class=\"dataframe\">\n",
              "  <thead>\n",
              "    <tr style=\"text-align: right;\">\n",
              "      <th></th>\n",
              "      <th>SP500</th>\n",
              "      <th>MMM</th>\n",
              "      <th>ABT</th>\n",
              "      <th>ABBV</th>\n",
              "      <th>ACN</th>\n",
              "      <th>ATVI</th>\n",
              "      <th>AYI</th>\n",
              "      <th>ADBE</th>\n",
              "      <th>AMD</th>\n",
              "      <th>AAP</th>\n",
              "      <th>...</th>\n",
              "      <th>WMB</th>\n",
              "      <th>WYNN</th>\n",
              "      <th>XEL</th>\n",
              "      <th>XRX</th>\n",
              "      <th>XLNX</th>\n",
              "      <th>XYL</th>\n",
              "      <th>YUM</th>\n",
              "      <th>ZBH</th>\n",
              "      <th>ZION</th>\n",
              "      <th>ZTS</th>\n",
              "    </tr>\n",
              "  </thead>\n",
              "  <tbody>\n",
              "    <tr>\n",
              "      <th>0</th>\n",
              "      <td>1676.12</td>\n",
              "      <td>104.8617</td>\n",
              "      <td>30.0317</td>\n",
              "      <td>38.7049</td>\n",
              "      <td>64.8930</td>\n",
              "      <td>16.0295</td>\n",
              "      <td>94.7727</td>\n",
              "      <td>50.820</td>\n",
              "      <td>3.86</td>\n",
              "      <td>81.2615</td>\n",
              "      <td>...</td>\n",
              "      <td>27.0806</td>\n",
              "      <td>139.1379</td>\n",
              "      <td>22.8062</td>\n",
              "      <td>23.7407</td>\n",
              "      <td>41.0246</td>\n",
              "      <td>26.1189</td>\n",
              "      <td>46.4083</td>\n",
              "      <td>79.8048</td>\n",
              "      <td>25.8329</td>\n",
              "      <td>30.7332</td>\n",
              "    </tr>\n",
              "    <tr>\n",
              "      <th>1</th>\n",
              "      <td>1655.45</td>\n",
              "      <td>103.5100</td>\n",
              "      <td>29.5924</td>\n",
              "      <td>37.3865</td>\n",
              "      <td>63.7629</td>\n",
              "      <td>15.8936</td>\n",
              "      <td>93.2675</td>\n",
              "      <td>49.580</td>\n",
              "      <td>3.72</td>\n",
              "      <td>80.5379</td>\n",
              "      <td>...</td>\n",
              "      <td>26.7222</td>\n",
              "      <td>137.5369</td>\n",
              "      <td>23.1504</td>\n",
              "      <td>23.1472</td>\n",
              "      <td>40.3263</td>\n",
              "      <td>25.5592</td>\n",
              "      <td>46.5642</td>\n",
              "      <td>79.9583</td>\n",
              "      <td>25.7091</td>\n",
              "      <td>30.3482</td>\n",
              "    </tr>\n",
              "    <tr>\n",
              "      <th>2</th>\n",
              "      <td>1656.40</td>\n",
              "      <td>103.8722</td>\n",
              "      <td>29.7359</td>\n",
              "      <td>37.6300</td>\n",
              "      <td>63.8719</td>\n",
              "      <td>15.8062</td>\n",
              "      <td>91.6441</td>\n",
              "      <td>49.450</td>\n",
              "      <td>3.65</td>\n",
              "      <td>79.7746</td>\n",
              "      <td>...</td>\n",
              "      <td>26.6536</td>\n",
              "      <td>137.9919</td>\n",
              "      <td>23.3099</td>\n",
              "      <td>23.3070</td>\n",
              "      <td>40.3882</td>\n",
              "      <td>25.3820</td>\n",
              "      <td>43.4164</td>\n",
              "      <td>81.2242</td>\n",
              "      <td>25.6233</td>\n",
              "      <td>30.2520</td>\n",
              "    </tr>\n",
              "    <tr>\n",
              "      <th>3</th>\n",
              "      <td>1692.56</td>\n",
              "      <td>105.4360</td>\n",
              "      <td>30.2850</td>\n",
              "      <td>38.7061</td>\n",
              "      <td>64.7626</td>\n",
              "      <td>16.5538</td>\n",
              "      <td>94.5464</td>\n",
              "      <td>51.165</td>\n",
              "      <td>3.79</td>\n",
              "      <td>81.0434</td>\n",
              "      <td>...</td>\n",
              "      <td>27.2559</td>\n",
              "      <td>142.0337</td>\n",
              "      <td>23.6288</td>\n",
              "      <td>24.3114</td>\n",
              "      <td>41.3517</td>\n",
              "      <td>26.0536</td>\n",
              "      <td>43.0638</td>\n",
              "      <td>82.4135</td>\n",
              "      <td>26.6429</td>\n",
              "      <td>31.1471</td>\n",
              "    </tr>\n",
              "    <tr>\n",
              "      <th>4</th>\n",
              "      <td>1703.20</td>\n",
              "      <td>106.6552</td>\n",
              "      <td>30.3931</td>\n",
              "      <td>38.6807</td>\n",
              "      <td>66.0803</td>\n",
              "      <td>16.5829</td>\n",
              "      <td>96.2288</td>\n",
              "      <td>52.190</td>\n",
              "      <td>3.83</td>\n",
              "      <td>81.6084</td>\n",
              "      <td>...</td>\n",
              "      <td>27.5609</td>\n",
              "      <td>145.7606</td>\n",
              "      <td>23.7295</td>\n",
              "      <td>24.2886</td>\n",
              "      <td>41.7928</td>\n",
              "      <td>26.2122</td>\n",
              "      <td>43.7560</td>\n",
              "      <td>83.1136</td>\n",
              "      <td>26.9859</td>\n",
              "      <td>31.1856</td>\n",
              "    </tr>\n",
              "  </tbody>\n",
              "</table>\n",
              "<p>5 rows × 387 columns</p>\n",
              "</div>"
            ],
            "text/plain": [
              "     SP500       MMM      ABT     ABBV      ACN     ATVI      AYI    ADBE  \\\n",
              "0  1676.12  104.8617  30.0317  38.7049  64.8930  16.0295  94.7727  50.820   \n",
              "1  1655.45  103.5100  29.5924  37.3865  63.7629  15.8936  93.2675  49.580   \n",
              "2  1656.40  103.8722  29.7359  37.6300  63.8719  15.8062  91.6441  49.450   \n",
              "3  1692.56  105.4360  30.2850  38.7061  64.7626  16.5538  94.5464  51.165   \n",
              "4  1703.20  106.6552  30.3931  38.6807  66.0803  16.5829  96.2288  52.190   \n",
              "\n",
              "    AMD      AAP   ...         WMB      WYNN      XEL      XRX     XLNX  \\\n",
              "0  3.86  81.2615   ...     27.0806  139.1379  22.8062  23.7407  41.0246   \n",
              "1  3.72  80.5379   ...     26.7222  137.5369  23.1504  23.1472  40.3263   \n",
              "2  3.65  79.7746   ...     26.6536  137.9919  23.3099  23.3070  40.3882   \n",
              "3  3.79  81.0434   ...     27.2559  142.0337  23.6288  24.3114  41.3517   \n",
              "4  3.83  81.6084   ...     27.5609  145.7606  23.7295  24.2886  41.7928   \n",
              "\n",
              "       XYL      YUM      ZBH     ZION      ZTS  \n",
              "0  26.1189  46.4083  79.8048  25.8329  30.7332  \n",
              "1  25.5592  46.5642  79.9583  25.7091  30.3482  \n",
              "2  25.3820  43.4164  81.2242  25.6233  30.2520  \n",
              "3  26.0536  43.0638  82.4135  26.6429  31.1471  \n",
              "4  26.2122  43.7560  83.1136  26.9859  31.1856  \n",
              "\n",
              "[5 rows x 387 columns]"
            ]
          },
          "metadata": {
            "tags": []
          },
          "execution_count": 869
        }
      ]
    },
    {
      "metadata": {
        "id": "snMrkyUSGXLt",
        "colab_type": "text"
      },
      "cell_type": "markdown",
      "source": [
        "### Investigate features correlation\n",
        "### Select features with correlation of >=0.95 or <=-0.95"
      ]
    },
    {
      "metadata": {
        "id": "vkc-Ny6PGXLv",
        "colab_type": "code",
        "colab": {},
        "outputId": "0b7b2763-2438-45ba-ec59-c4cf268e1b01"
      },
      "cell_type": "code",
      "source": [
        "corr = df.corr()\n",
        "corr = corr['SP500']\n",
        "largest_2 = corr.nlargest(2, 'first')\n",
        "print(largest_2)\n",
        "most_corr_stock = largest_2.index[1]\n",
        "most_corr_stock"
      ],
      "execution_count": 0,
      "outputs": [
        {
          "output_type": "stream",
          "text": [
            "SP500    1.000000\n",
            "APH      0.988361\n",
            "Name: SP500, dtype: float64\n"
          ],
          "name": "stdout"
        },
        {
          "output_type": "execute_result",
          "data": {
            "text/plain": [
              "'APH'"
            ]
          },
          "metadata": {
            "tags": []
          },
          "execution_count": 870
        }
      ]
    },
    {
      "metadata": {
        "id": "VbQeqMoBGXL-",
        "colab_type": "code",
        "colab": {},
        "outputId": "de11887b-dbd0-4e99-9116-abc754c92b81"
      },
      "cell_type": "code",
      "source": [
        "df1 = df[most_corr_stock]\n",
        "df1.head()"
      ],
      "execution_count": 0,
      "outputs": [
        {
          "output_type": "execute_result",
          "data": {
            "text/plain": [
              "0    36.2702\n",
              "1    35.8013\n",
              "2    36.2127\n",
              "3    36.4472\n",
              "4    36.8634\n",
              "Name: APH, dtype: float64"
            ]
          },
          "metadata": {
            "tags": []
          },
          "execution_count": 871
        }
      ]
    },
    {
      "metadata": {
        "id": "zhZxLxVfGXMI",
        "colab_type": "text"
      },
      "cell_type": "markdown",
      "source": [
        "### Create a new DataFrame showing the past 3 days and the next 4 days"
      ]
    },
    {
      "metadata": {
        "id": "y64Kn772GXMK",
        "colab_type": "code",
        "colab": {},
        "outputId": "eddaa7b8-2ebf-4463-f32b-1224a3df5d6f"
      },
      "cell_type": "code",
      "source": [
        "df2 = pd.DataFrame(\n",
        "            {\"t-4\" : df1.shift(4),\n",
        "             \"t-3\" : df1.shift(3),\n",
        "             \"t-2\" : df1.shift(2),\n",
        "             \"t-1\" : df1.shift(1),\n",
        "             \"t\"   : df1.shift(0),\n",
        "             \"t+1\" : df1.shift(-1),\n",
        "             \"t+2\" : df1.shift(-2),\n",
        "             \"t+3\" : df1.shift(-3),\n",
        "             \"t+4\" : df1.shift(-4)\n",
        "             })\n",
        "cols = ['t-4', 't-3', 't-2', 't-1', 't', 't+1', 't+2', 't+3', 't+4']\n",
        "df2 = df2[cols]\n",
        "print(df2.head())\n",
        "print(df2.tail())"
      ],
      "execution_count": 0,
      "outputs": [
        {
          "output_type": "stream",
          "text": [
            "       t-4      t-3      t-2      t-1        t      t+1      t+2      t+3  \\\n",
            "0      NaN      NaN      NaN      NaN  36.2702  35.8013  36.2127  36.4472   \n",
            "1      NaN      NaN      NaN  36.2702  35.8013  36.2127  36.4472  36.8634   \n",
            "2      NaN      NaN  36.2702  35.8013  36.2127  36.4472  36.8634  36.8873   \n",
            "3      NaN  36.2702  35.8013  36.2127  36.4472  36.8634  36.8873  37.0548   \n",
            "4  36.2702  35.8013  36.2127  36.4472  36.8634  36.8873  37.0548  37.8203   \n",
            "\n",
            "       t+4  \n",
            "0  36.8634  \n",
            "1  36.8873  \n",
            "2  37.0548  \n",
            "3  37.8203  \n",
            "4  38.8106  \n",
            "        t-4    t-3    t-2    t-1      t    t+1    t+2    t+3    t+4\n",
            "1255  94.05  93.60  93.47  94.02  94.47  93.96  93.51  91.60  90.52\n",
            "1256  93.60  93.47  94.02  94.47  93.96  93.51  91.60  90.52    NaN\n",
            "1257  93.47  94.02  94.47  93.96  93.51  91.60  90.52    NaN    NaN\n",
            "1258  94.02  94.47  93.96  93.51  91.60  90.52    NaN    NaN    NaN\n",
            "1259  94.47  93.96  93.51  91.60  90.52    NaN    NaN    NaN    NaN\n"
          ],
          "name": "stdout"
        }
      ]
    },
    {
      "metadata": {
        "id": "VvbV3LaFGXMS",
        "colab_type": "text"
      },
      "cell_type": "markdown",
      "source": [
        "### Removing nan values from the new DF"
      ]
    },
    {
      "metadata": {
        "id": "7GZbffTQGXMU",
        "colab_type": "code",
        "colab": {},
        "outputId": "a71761c1-ecbf-45f5-ee8d-90cbbb3d82ee"
      },
      "cell_type": "code",
      "source": [
        "df2 = df2.dropna()\n",
        "df2.head()"
      ],
      "execution_count": 0,
      "outputs": [
        {
          "output_type": "execute_result",
          "data": {
            "text/html": [
              "<div>\n",
              "<style>\n",
              "    .dataframe thead tr:only-child th {\n",
              "        text-align: right;\n",
              "    }\n",
              "\n",
              "    .dataframe thead th {\n",
              "        text-align: left;\n",
              "    }\n",
              "\n",
              "    .dataframe tbody tr th {\n",
              "        vertical-align: top;\n",
              "    }\n",
              "</style>\n",
              "<table border=\"1\" class=\"dataframe\">\n",
              "  <thead>\n",
              "    <tr style=\"text-align: right;\">\n",
              "      <th></th>\n",
              "      <th>t-4</th>\n",
              "      <th>t-3</th>\n",
              "      <th>t-2</th>\n",
              "      <th>t-1</th>\n",
              "      <th>t</th>\n",
              "      <th>t+1</th>\n",
              "      <th>t+2</th>\n",
              "      <th>t+3</th>\n",
              "      <th>t+4</th>\n",
              "    </tr>\n",
              "  </thead>\n",
              "  <tbody>\n",
              "    <tr>\n",
              "      <th>4</th>\n",
              "      <td>36.2702</td>\n",
              "      <td>35.8013</td>\n",
              "      <td>36.2127</td>\n",
              "      <td>36.4472</td>\n",
              "      <td>36.8634</td>\n",
              "      <td>36.8873</td>\n",
              "      <td>37.0548</td>\n",
              "      <td>37.8203</td>\n",
              "      <td>38.8106</td>\n",
              "    </tr>\n",
              "    <tr>\n",
              "      <th>5</th>\n",
              "      <td>35.8013</td>\n",
              "      <td>36.2127</td>\n",
              "      <td>36.4472</td>\n",
              "      <td>36.8634</td>\n",
              "      <td>36.8873</td>\n",
              "      <td>37.0548</td>\n",
              "      <td>37.8203</td>\n",
              "      <td>38.8106</td>\n",
              "      <td>39.3896</td>\n",
              "    </tr>\n",
              "    <tr>\n",
              "      <th>6</th>\n",
              "      <td>36.2127</td>\n",
              "      <td>36.4472</td>\n",
              "      <td>36.8634</td>\n",
              "      <td>36.8873</td>\n",
              "      <td>37.0548</td>\n",
              "      <td>37.8203</td>\n",
              "      <td>38.8106</td>\n",
              "      <td>39.3896</td>\n",
              "      <td>39.3943</td>\n",
              "    </tr>\n",
              "    <tr>\n",
              "      <th>7</th>\n",
              "      <td>36.4472</td>\n",
              "      <td>36.8634</td>\n",
              "      <td>36.8873</td>\n",
              "      <td>37.0548</td>\n",
              "      <td>37.8203</td>\n",
              "      <td>38.8106</td>\n",
              "      <td>39.3896</td>\n",
              "      <td>39.3943</td>\n",
              "      <td>39.2269</td>\n",
              "    </tr>\n",
              "    <tr>\n",
              "      <th>8</th>\n",
              "      <td>36.8634</td>\n",
              "      <td>36.8873</td>\n",
              "      <td>37.0548</td>\n",
              "      <td>37.8203</td>\n",
              "      <td>38.8106</td>\n",
              "      <td>39.3896</td>\n",
              "      <td>39.3943</td>\n",
              "      <td>39.2269</td>\n",
              "      <td>39.0212</td>\n",
              "    </tr>\n",
              "  </tbody>\n",
              "</table>\n",
              "</div>"
            ],
            "text/plain": [
              "       t-4      t-3      t-2      t-1        t      t+1      t+2      t+3  \\\n",
              "4  36.2702  35.8013  36.2127  36.4472  36.8634  36.8873  37.0548  37.8203   \n",
              "5  35.8013  36.2127  36.4472  36.8634  36.8873  37.0548  37.8203  38.8106   \n",
              "6  36.2127  36.4472  36.8634  36.8873  37.0548  37.8203  38.8106  39.3896   \n",
              "7  36.4472  36.8634  36.8873  37.0548  37.8203  38.8106  39.3896  39.3943   \n",
              "8  36.8634  36.8873  37.0548  37.8203  38.8106  39.3896  39.3943  39.2269   \n",
              "\n",
              "       t+4  \n",
              "4  38.8106  \n",
              "5  39.3896  \n",
              "6  39.3943  \n",
              "7  39.2269  \n",
              "8  39.0212  "
            ]
          },
          "metadata": {
            "tags": []
          },
          "execution_count": 873
        }
      ]
    },
    {
      "metadata": {
        "id": "d1MQ3ArqGXMg",
        "colab_type": "text"
      },
      "cell_type": "markdown",
      "source": [
        "### Specifying predictors and predicted features"
      ]
    },
    {
      "metadata": {
        "id": "_fw__697GXMi",
        "colab_type": "code",
        "colab": {},
        "outputId": "85d50138-a9f1-458a-a00d-b76ec2328157"
      },
      "cell_type": "code",
      "source": [
        "X = df2.loc[:,'t-4':'t']\n",
        "y = df2.loc[:,'t+1':'t+4']\n",
        "print(\"Predictors: \\n \\n\", X.head(), '\\n')\n",
        "print(\"Predicted: \\n \\n\", y.head())"
      ],
      "execution_count": 0,
      "outputs": [
        {
          "output_type": "stream",
          "text": [
            "Predictors: \n",
            " \n",
            "        t-4      t-3      t-2      t-1        t\n",
            "4  36.2702  35.8013  36.2127  36.4472  36.8634\n",
            "5  35.8013  36.2127  36.4472  36.8634  36.8873\n",
            "6  36.2127  36.4472  36.8634  36.8873  37.0548\n",
            "7  36.4472  36.8634  36.8873  37.0548  37.8203\n",
            "8  36.8634  36.8873  37.0548  37.8203  38.8106 \n",
            "\n",
            "Predicted: \n",
            " \n",
            "        t+1      t+2      t+3      t+4\n",
            "4  36.8873  37.0548  37.8203  38.8106\n",
            "5  37.0548  37.8203  38.8106  39.3896\n",
            "6  37.8203  38.8106  39.3896  39.3943\n",
            "7  38.8106  39.3896  39.3943  39.2269\n",
            "8  39.3896  39.3943  39.2269  39.0212\n"
          ],
          "name": "stdout"
        }
      ]
    },
    {
      "metadata": {
        "id": "llEhfdjGGXMu",
        "colab_type": "text"
      },
      "cell_type": "markdown",
      "source": [
        "### Normalizing the data to allow faster convergence of the weights"
      ]
    },
    {
      "metadata": {
        "collapsed": true,
        "id": "H4X6ABNJGXMx",
        "colab_type": "code",
        "colab": {}
      },
      "cell_type": "code",
      "source": [
        "from sklearn import preprocessing\n",
        "\n",
        "#Normalize Data\n",
        "X_scaled = preprocessing.scale(X)\n",
        "y_scaled = preprocessing.scale(y)"
      ],
      "execution_count": 0,
      "outputs": []
    },
    {
      "metadata": {
        "id": "Q5gho-reGXNK",
        "colab_type": "text"
      },
      "cell_type": "markdown",
      "source": [
        "### Splitting the data into train and test"
      ]
    },
    {
      "metadata": {
        "collapsed": true,
        "id": "J4s70_vuGXNN",
        "colab_type": "code",
        "colab": {}
      },
      "cell_type": "code",
      "source": [
        "from sklearn.model_selection import train_test_split\n",
        "\n",
        "X_train, X_test, y_train, y_test = train_test_split( X_scaled, y_scaled, test_size=0.2, random_state=1, shuffle=True )"
      ],
      "execution_count": 0,
      "outputs": []
    },
    {
      "metadata": {
        "id": "rzME4XzdGXNY",
        "colab_type": "text"
      },
      "cell_type": "markdown",
      "source": [
        "### Suitable scoring metric is MSE"
      ]
    },
    {
      "metadata": {
        "id": "pHWXznIFGXNb",
        "colab_type": "text"
      },
      "cell_type": "markdown",
      "source": [
        "### Building an MLPRegressor"
      ]
    },
    {
      "metadata": {
        "id": "4dMuba2FGXNe",
        "colab_type": "code",
        "colab": {},
        "outputId": "a1953901-fa58-466a-917d-dd873eb83596"
      },
      "cell_type": "code",
      "source": [
        "from sklearn.neural_network import MLPRegressor\n",
        "import sklearn.metrics as metrics\n",
        "\n",
        "reg_adam = MLPRegressor(hidden_layer_sizes=(126), solver='adam', learning_rate_init=0.01)\n",
        "                    \n",
        "reg_adam.fit(X_train, y_train)\n",
        "print(\"Score: \", reg_adam.score(X_test, y_test))\n",
        "\n",
        "predicted_targets = reg_adam.predict(X_test)\n",
        "print(\"MSE: \", metrics.mean_squared_error(predicted_targets,y_test))\n",
        "reg_adam"
      ],
      "execution_count": 0,
      "outputs": [
        {
          "output_type": "stream",
          "text": [
            "Score:  0.993415530822\n",
            "MSE:  0.00662133378321\n"
          ],
          "name": "stdout"
        },
        {
          "output_type": "execute_result",
          "data": {
            "text/plain": [
              "MLPRegressor(activation='relu', alpha=0.0001, batch_size='auto', beta_1=0.9,\n",
              "       beta_2=0.999, early_stopping=False, epsilon=1e-08,\n",
              "       hidden_layer_sizes=126, learning_rate='constant',\n",
              "       learning_rate_init=0.01, max_iter=200, momentum=0.9,\n",
              "       nesterovs_momentum=True, power_t=0.5, random_state=None,\n",
              "       shuffle=True, solver='adam', tol=0.0001, validation_fraction=0.1,\n",
              "       verbose=False, warm_start=False)"
            ]
          },
          "metadata": {
            "tags": []
          },
          "execution_count": 877
        }
      ]
    },
    {
      "metadata": {
        "id": "IKKP80WUGXNr",
        "colab_type": "text"
      },
      "cell_type": "markdown",
      "source": [
        "### Diff. architectures MSE\n",
        "#### hidden layers: \n",
        "- 1 layers, 126 nodes: 0.0058\n",
        "- 2 layers, 64 nodes+10 nodes: 0.0065\n",
        "- 1 layer,  100 nodes: 0.0082\n",
        "- 2 layers, 126 nodes+10 nodes: 0.0085\n",
        "\n",
        "#### optimizer\n",
        "- adam, lr=0.01: 0.0052\n",
        "- adam, lr= 0.001: 0.057\n",
        "- adam, lr= 0.1: 0.024\n",
        "- sgd, lr= 0.1:  0.026\n",
        "- sgd, lr= 0.01: 0.051\n",
        "\n",
        "#### regularization\n",
        "\n",
        "- early stopping: 0.066\n",
        "- alpha=0.01 : 0.059\n",
        "- alpha=0.0001 : 0.060\n",
        "- alpha=0.001 : 0.064\n",
        "\n",
        "__optimum architecture: single hidden layer with 126 nodes, optimizer: adam, lr: 0.01 with default regularization of MLPRegressor which is l2 regulizer with alpha of 0.0001__"
      ]
    },
    {
      "metadata": {
        "id": "OB684JbkGXNt",
        "colab_type": "text"
      },
      "cell_type": "markdown",
      "source": [
        "### Using the first three values of the test data to predict SP500 for the next 3 days"
      ]
    },
    {
      "metadata": {
        "id": "MXWC8yhQGXNx",
        "colab_type": "code",
        "colab": {},
        "outputId": "49c28f64-c510-47f1-d839-2b8985ef8c25"
      },
      "cell_type": "code",
      "source": [
        "y_predicted = reg_adam.predict(X_test[0:3])\n",
        "y_target = y_test[:3]\n",
        "                    \n",
        "print(y_predicted)\n",
        "print(y_target)"
      ],
      "execution_count": 0,
      "outputs": [
        {
          "output_type": "stream",
          "text": [
            "[[-0.4089179  -0.41943217 -0.39316421 -0.41303508]\n",
            " [ 0.33961196  0.35823026  0.31476019  0.31925992]\n",
            " [ 1.74645444  1.71748098  1.64233738  1.59766837]]\n",
            "[[-0.4459874  -0.43966644 -0.41496611 -0.40441576]\n",
            " [ 0.35490276  0.35679053  0.36124841  0.37303932]\n",
            " [ 1.71969005  1.54195895  1.36593479  1.47015771]]\n"
          ],
          "name": "stdout"
        }
      ]
    },
    {
      "metadata": {
        "id": "sgC8k7FdGXOB",
        "colab_type": "text"
      },
      "cell_type": "markdown",
      "source": [
        "### Plotting the target values and the predicted values for SP500 of three days"
      ]
    },
    {
      "metadata": {
        "id": "TngD_lCrGXOD",
        "colab_type": "code",
        "colab": {},
        "outputId": "5f0bdeaa-d414-4e36-9c38-dbb2c447d454"
      },
      "cell_type": "code",
      "source": [
        "import matplotlib.pyplot as plt \n",
        "\n",
        "x = np.arange(1, 5, 1)\n",
        "x.size\n",
        "\n",
        "plt.scatter(x, y_predicted[0], label=\"Predicted values\")\n",
        "plt.scatter(x, y_target[0], label=\"Target values\")\n",
        "plt.legend(loc=\"best\")\n",
        "\n",
        "plt.figure()\n",
        "plt.scatter(x, y_predicted[1], label=\"Predicted values\")\n",
        "plt.scatter(x, y_target[1], label=\"Target values\")\n",
        "plt.legend(loc=\"best\")\n",
        "\n",
        "plt.figure()\n",
        "plt.scatter(x, y_predicted[2], label=\"Predicted values\")\n",
        "plt.scatter(x, y_target[2], label=\"Target values\")\n",
        "plt.legend(loc=\"best\")\n",
        "\n",
        "plt.figure()\n",
        "x = np.arange(1, 13, 1)\n",
        "plt.scatter(x, y_predicted, label=\"Predicted values\")\n",
        "plt.scatter(x, y_target, label=\"Target values\")\n",
        "plt.legend(loc=\"best\")\n",
        "\n",
        "plt.figure()\n",
        "plt.plot(x, y_predicted.reshape((12,)), label=\"Predicted values\")\n",
        "plt.plot(x, y_target.reshape((12,)), label=\"Target values\")\n",
        "plt.legend(loc=\"best\")\n",
        "\n",
        "plt.show()"
      ],
      "execution_count": 0,
      "outputs": [
        {
          "output_type": "display_data",
          "data": {
            "image/png": "[encoded data removed]",
            "text/plain": [
              "<matplotlib.figure.Figure at 0x16e64b36d8>"
            ]
          },
          "metadata": {
            "tags": []
          }
        },
        {
          "output_type": "display_data",
          "data": {
            "image/png": "[encoded data removed]",
            "text/plain": [
              "<matplotlib.figure.Figure at 0x16e683d160>"
            ]
          },
          "metadata": {
            "tags": []
          }
        },
        {
          "output_type": "display_data",
          "data": {
            "image/png": "[encoded data removed]",
            "text/plain": [
              "<matplotlib.figure.Figure at 0x16e71a7ba8>"
            ]
          },
          "metadata": {
            "tags": []
          }
        },
        {
          "output_type": "display_data",
          "data": {
            "image/png": "[encoded data removed]",
            "text/plain": [
              "<matplotlib.figure.Figure at 0x16e704a860>"
            ]
          },
          "metadata": {
            "tags": []
          }
        },
        {
          "output_type": "display_data",
          "data": {
            "image/png": "[encoded data removed]",
            "text/plain": [
              "<matplotlib.figure.Figure at 0x16e705f748>"
            ]
          },
          "metadata": {
            "tags": []
          }
        }
      ]
    },
    {
      "metadata": {
        "id": "Lz1gUxjBGXOL",
        "colab_type": "text"
      },
      "cell_type": "markdown",
      "source": [
        "Values that were predicted correctly are based on the pattern that shows that the stock price during a consecative 4 days is the same, with a minor change.\n",
        "\n",
        "In the third set, the true values did not follow the pattern as with the first and second the sets.\n",
        "\n",
        "Inturn, the predicted values were following the pattern and did not show the abrupt change in the stock price on the second, third and fourth days"
      ]
    }
  ]
}